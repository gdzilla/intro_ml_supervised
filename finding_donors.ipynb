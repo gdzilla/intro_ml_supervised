{
  "nbformat": 4,
  "nbformat_minor": 0,
  "metadata": {
    "colab": {
      "name": "finding_donors.ipynb",
      "provenance": [],
      "toc_visible": true,
      "include_colab_link": true
    },
    "kernelspec": {
      "display_name": "Python 3",
      "language": "python",
      "name": "python3"
    },
    "language_info": {
      "codemirror_mode": {
        "name": "ipython",
        "version": 3
      },
      "file_extension": ".py",
      "mimetype": "text/x-python",
      "name": "python",
      "nbconvert_exporter": "python",
      "pygments_lexer": "ipython3",
      "version": "3.7.1"
    }
  },
  "cells": [
    {
      "cell_type": "markdown",
      "metadata": {
        "id": "view-in-github",
        "colab_type": "text"
      },
      "source": [
        "<a href=\"https://colab.research.google.com/github/gdzilla/intro_ml_supervised/blob/master/finding_donors.ipynb\" target=\"_parent\"><img src=\"https://colab.research.google.com/assets/colab-badge.svg\" alt=\"Open In Colab\"/></a>"
      ]
    },
    {
      "cell_type": "markdown",
      "metadata": {
        "id": "CtVQ7PNd9xen"
      },
      "source": [
        "# Data Scientist Nanodegree\n",
        "## Supervised Learning\n",
        "## Project: Finding Donors for *CharityML*"
      ]
    },
    {
      "cell_type": "code",
      "metadata": {
        "colab": {
          "base_uri": "https://localhost:8080/"
        },
        "id": "3CLL_r_0ALr7",
        "outputId": "c3dc0555-efb6-4cc0-e03c-d7c5d6b75fff"
      },
      "source": [
        "!pip install matplotlib-venn"
      ],
      "execution_count": 1,
      "outputs": [
        {
          "output_type": "stream",
          "text": [
            "Requirement already satisfied: matplotlib-venn in /usr/local/lib/python3.7/dist-packages (0.11.6)\n",
            "Requirement already satisfied: scipy in /usr/local/lib/python3.7/dist-packages (from matplotlib-venn) (1.4.1)\n",
            "Requirement already satisfied: matplotlib in /usr/local/lib/python3.7/dist-packages (from matplotlib-venn) (3.2.2)\n",
            "Requirement already satisfied: numpy in /usr/local/lib/python3.7/dist-packages (from matplotlib-venn) (1.19.5)\n",
            "Requirement already satisfied: kiwisolver>=1.0.1 in /usr/local/lib/python3.7/dist-packages (from matplotlib->matplotlib-venn) (1.3.1)\n",
            "Requirement already satisfied: python-dateutil>=2.1 in /usr/local/lib/python3.7/dist-packages (from matplotlib->matplotlib-venn) (2.8.1)\n",
            "Requirement already satisfied: pyparsing!=2.0.4,!=2.1.2,!=2.1.6,>=2.0.1 in /usr/local/lib/python3.7/dist-packages (from matplotlib->matplotlib-venn) (2.4.7)\n",
            "Requirement already satisfied: cycler>=0.10 in /usr/local/lib/python3.7/dist-packages (from matplotlib->matplotlib-venn) (0.10.0)\n",
            "Requirement already satisfied: six>=1.5 in /usr/local/lib/python3.7/dist-packages (from python-dateutil>=2.1->matplotlib->matplotlib-venn) (1.15.0)\n"
          ],
          "name": "stdout"
        }
      ]
    },
    {
      "cell_type": "markdown",
      "metadata": {
        "id": "YvxgfH8l9xep"
      },
      "source": [
        "Welcome to the first project of the Data Scientist Nanodegree! In this notebook, some template code has already been provided for you, and it will be your job to implement the additional functionality necessary to successfully complete this project. Sections that begin with **'Implementation'** in the header indicate that the following block of code will require additional functionality which you must provide. Instructions will be provided for each section and the specifics of the implementation are marked in the code block with a `'TODO'` statement. Please be sure to read the instructions carefully!\n",
        "\n",
        "In addition to implementing code, there will be questions that you must answer which relate to the project and your implementation. Each section where you will answer a question is preceded by a **'Question X'** header. Carefully read each question and provide thorough answers in the following text boxes that begin with **'Answer:'**. Your project submission will be evaluated based on your answers to each of the questions and the implementation you provide.  \n",
        "\n",
        ">**Note:** Please specify WHICH VERSION OF PYTHON you are using when submitting this notebook. Code and Markdown cells can be executed using the **Shift + Enter** keyboard shortcut. In addition, Markdown cells can be edited by typically double-clicking the cell to enter edit mode."
      ]
    },
    {
      "cell_type": "markdown",
      "metadata": {
        "id": "y6vDcb2K9xer"
      },
      "source": [
        "## Getting Started\n",
        "\n",
        "In this project, you will employ several supervised algorithms of your choice to accurately model individuals' income using data collected from the 1994 U.S. Census. You will then choose the best candidate algorithm from preliminary results and further optimize this algorithm to best model the data. Your goal with this implementation is to construct a model that accurately predicts whether an individual makes more than $50,000. This sort of task can arise in a non-profit setting, where organizations survive on donations.  Understanding an individual's income can help a non-profit better understand how large of a donation to request, or whether or not they should reach out to begin with.  While it can be difficult to determine an individual's general income bracket directly from public sources, we can (as we will see) infer this value from other publically available features. \n",
        "\n",
        "The dataset for this project originates from the [UCI Machine Learning Repository](https://archive.ics.uci.edu/ml/datasets/Census+Income). The datset was donated by Ron Kohavi and Barry Becker, after being published in the article _\"Scaling Up the Accuracy of Naive-Bayes Classifiers: A Decision-Tree Hybrid\"_. You can find the article by Ron Kohavi [online](https://www.aaai.org/Papers/KDD/1996/KDD96-033.pdf). The data we investigate here consists of small changes to the original dataset, such as removing the `'fnlwgt'` feature and records with missing or ill-formatted entries."
      ]
    },
    {
      "cell_type": "markdown",
      "metadata": {
        "id": "ArUoTU7O9xes"
      },
      "source": [
        "----\n",
        "## Exploring the Data\n",
        "Run the code cell below to load necessary Python libraries and load the census data. Note that the last column from this dataset, `'income'`, will be our target label (whether an individual makes more than, or at most, $50,000 annually). All other columns are features about each individual in the census database."
      ]
    },
    {
      "cell_type": "code",
      "metadata": {
        "colab": {
          "base_uri": "https://localhost:8080/",
          "height": 348
        },
        "id": "Bx7GO12p9xet",
        "outputId": "412a3392-fb09-4e8a-abfa-e1b8aa1c20cb"
      },
      "source": [
        "# Import libraries\n",
        "import numpy as np\n",
        "import pandas as pd\n",
        "from time import time\n",
        "\n",
        "# Import supplementary visualization code visuals.py\n",
        "#import visuals as vs\n",
        "import matplotlib.pyplot as plt \n",
        "%matplotlib inline\n",
        "\n",
        "# Load data\n",
        "data = pd.read_csv(\"census.csv\")\n",
        "\n",
        "# Display data\n",
        "data.head()"
      ],
      "execution_count": 4,
      "outputs": [
        {
          "output_type": "execute_result",
          "data": {
            "text/html": [
              "<div>\n",
              "<style scoped>\n",
              "    .dataframe tbody tr th:only-of-type {\n",
              "        vertical-align: middle;\n",
              "    }\n",
              "\n",
              "    .dataframe tbody tr th {\n",
              "        vertical-align: top;\n",
              "    }\n",
              "\n",
              "    .dataframe thead th {\n",
              "        text-align: right;\n",
              "    }\n",
              "</style>\n",
              "<table border=\"1\" class=\"dataframe\">\n",
              "  <thead>\n",
              "    <tr style=\"text-align: right;\">\n",
              "      <th></th>\n",
              "      <th>age</th>\n",
              "      <th>workclass</th>\n",
              "      <th>education_level</th>\n",
              "      <th>education-num</th>\n",
              "      <th>marital-status</th>\n",
              "      <th>occupation</th>\n",
              "      <th>relationship</th>\n",
              "      <th>race</th>\n",
              "      <th>sex</th>\n",
              "      <th>capital-gain</th>\n",
              "      <th>capital-loss</th>\n",
              "      <th>hours-per-week</th>\n",
              "      <th>native-country</th>\n",
              "      <th>income</th>\n",
              "    </tr>\n",
              "  </thead>\n",
              "  <tbody>\n",
              "    <tr>\n",
              "      <th>0</th>\n",
              "      <td>39</td>\n",
              "      <td>State-gov</td>\n",
              "      <td>Bachelors</td>\n",
              "      <td>13.0</td>\n",
              "      <td>Never-married</td>\n",
              "      <td>Adm-clerical</td>\n",
              "      <td>Not-in-family</td>\n",
              "      <td>White</td>\n",
              "      <td>Male</td>\n",
              "      <td>2174.0</td>\n",
              "      <td>0.0</td>\n",
              "      <td>40.0</td>\n",
              "      <td>United-States</td>\n",
              "      <td>&lt;=50K</td>\n",
              "    </tr>\n",
              "    <tr>\n",
              "      <th>1</th>\n",
              "      <td>50</td>\n",
              "      <td>Self-emp-not-inc</td>\n",
              "      <td>Bachelors</td>\n",
              "      <td>13.0</td>\n",
              "      <td>Married-civ-spouse</td>\n",
              "      <td>Exec-managerial</td>\n",
              "      <td>Husband</td>\n",
              "      <td>White</td>\n",
              "      <td>Male</td>\n",
              "      <td>0.0</td>\n",
              "      <td>0.0</td>\n",
              "      <td>13.0</td>\n",
              "      <td>United-States</td>\n",
              "      <td>&lt;=50K</td>\n",
              "    </tr>\n",
              "    <tr>\n",
              "      <th>2</th>\n",
              "      <td>38</td>\n",
              "      <td>Private</td>\n",
              "      <td>HS-grad</td>\n",
              "      <td>9.0</td>\n",
              "      <td>Divorced</td>\n",
              "      <td>Handlers-cleaners</td>\n",
              "      <td>Not-in-family</td>\n",
              "      <td>White</td>\n",
              "      <td>Male</td>\n",
              "      <td>0.0</td>\n",
              "      <td>0.0</td>\n",
              "      <td>40.0</td>\n",
              "      <td>United-States</td>\n",
              "      <td>&lt;=50K</td>\n",
              "    </tr>\n",
              "    <tr>\n",
              "      <th>3</th>\n",
              "      <td>53</td>\n",
              "      <td>Private</td>\n",
              "      <td>11th</td>\n",
              "      <td>7.0</td>\n",
              "      <td>Married-civ-spouse</td>\n",
              "      <td>Handlers-cleaners</td>\n",
              "      <td>Husband</td>\n",
              "      <td>Black</td>\n",
              "      <td>Male</td>\n",
              "      <td>0.0</td>\n",
              "      <td>0.0</td>\n",
              "      <td>40.0</td>\n",
              "      <td>United-States</td>\n",
              "      <td>&lt;=50K</td>\n",
              "    </tr>\n",
              "    <tr>\n",
              "      <th>4</th>\n",
              "      <td>28</td>\n",
              "      <td>Private</td>\n",
              "      <td>Bachelors</td>\n",
              "      <td>13.0</td>\n",
              "      <td>Married-civ-spouse</td>\n",
              "      <td>Prof-specialty</td>\n",
              "      <td>Wife</td>\n",
              "      <td>Black</td>\n",
              "      <td>Female</td>\n",
              "      <td>0.0</td>\n",
              "      <td>0.0</td>\n",
              "      <td>40.0</td>\n",
              "      <td>Cuba</td>\n",
              "      <td>&lt;=50K</td>\n",
              "    </tr>\n",
              "  </tbody>\n",
              "</table>\n",
              "</div>"
            ],
            "text/plain": [
              "   age          workclass  ...  native-country  income\n",
              "0   39          State-gov  ...   United-States   <=50K\n",
              "1   50   Self-emp-not-inc  ...   United-States   <=50K\n",
              "2   38            Private  ...   United-States   <=50K\n",
              "3   53            Private  ...   United-States   <=50K\n",
              "4   28            Private  ...            Cuba   <=50K\n",
              "\n",
              "[5 rows x 14 columns]"
            ]
          },
          "metadata": {
            "tags": []
          },
          "execution_count": 4
        }
      ]
    },
    {
      "cell_type": "code",
      "metadata": {
        "colab": {
          "base_uri": "https://localhost:8080/"
        },
        "id": "MVtOTX6D9xeu",
        "outputId": "075f6488-530f-42ac-bb71-19a3c091781a"
      },
      "source": [
        "data.info()"
      ],
      "execution_count": 5,
      "outputs": [
        {
          "output_type": "stream",
          "text": [
            "<class 'pandas.core.frame.DataFrame'>\n",
            "RangeIndex: 45222 entries, 0 to 45221\n",
            "Data columns (total 14 columns):\n",
            " #   Column           Non-Null Count  Dtype  \n",
            "---  ------           --------------  -----  \n",
            " 0   age              45222 non-null  int64  \n",
            " 1   workclass        45222 non-null  object \n",
            " 2   education_level  45222 non-null  object \n",
            " 3   education-num    45222 non-null  float64\n",
            " 4   marital-status   45222 non-null  object \n",
            " 5   occupation       45222 non-null  object \n",
            " 6   relationship     45222 non-null  object \n",
            " 7   race             45222 non-null  object \n",
            " 8   sex              45222 non-null  object \n",
            " 9   capital-gain     45222 non-null  float64\n",
            " 10  capital-loss     45222 non-null  float64\n",
            " 11  hours-per-week   45222 non-null  float64\n",
            " 12  native-country   45222 non-null  object \n",
            " 13  income           45222 non-null  object \n",
            "dtypes: float64(4), int64(1), object(9)\n",
            "memory usage: 4.8+ MB\n"
          ],
          "name": "stdout"
        }
      ]
    },
    {
      "cell_type": "markdown",
      "metadata": {
        "id": "faTr6vXy9xev"
      },
      "source": [
        "### Implementation: Data Exploration\n",
        "A cursory investigation of the dataset will determine how many individuals fit into either group, and will tell us about the percentage of these individuals making more than \\$50,000. In the code cell below, you will need to compute the following:\n",
        "- The total number of records, `'n_records'`\n",
        "- The number of individuals making more than \\$50,000 annually, `'n_greater_50k'`.\n",
        "- The number of individuals making at most \\$50,000 annually, `'n_at_most_50k'`.\n",
        "- The percentage of individuals making more than \\$50,000 annually, `'greater_percent'`.\n",
        "\n",
        "** HINT: ** You may need to look at the table above to understand how the `'income'` entries are formatted. "
      ]
    },
    {
      "cell_type": "code",
      "metadata": {
        "colab": {
          "base_uri": "https://localhost:8080/"
        },
        "id": "imqeTAVZ9xev",
        "outputId": "adf8b951-7668-45b0-bf26-439eacec783a"
      },
      "source": [
        "# TODO: Total number of records\n",
        "n_records = data.shape[0]\n",
        "\n",
        "# TODO: Number of records where individual's income is more than $50,000\n",
        "print(data.income.value_counts())\n",
        "\n",
        "n_greater_50k = data[data.income == '>50K'].shape[0]\n",
        "\n",
        "# TODO: Number of records where individual's income is at most $50,000\n",
        "n_at_most_50k = data[data.income == '<=50K'].shape[0]\n",
        "\n",
        "# TODO: Percentage of individuals whose income is more than $50,000\n",
        "greater_percent = n_greater_50k/(n_greater_50k + n_at_most_50k)*100\n",
        "\n",
        "# Print the results\n",
        "print(\"Total number of records: {}\".format(n_records))\n",
        "print(\"Individuals making more than $50,000: {}\".format(n_greater_50k))\n",
        "print(\"Individuals making at most $50,000: {}\".format(n_at_most_50k))\n",
        "print(\"Percentage of individuals making more than $50,000: {}%\".format(greater_percent))"
      ],
      "execution_count": 6,
      "outputs": [
        {
          "output_type": "stream",
          "text": [
            "<=50K    34014\n",
            ">50K     11208\n",
            "Name: income, dtype: int64\n",
            "Total number of records: 45222\n",
            "Individuals making more than $50,000: 11208\n",
            "Individuals making at most $50,000: 34014\n",
            "Percentage of individuals making more than $50,000: 24.78439697492371%\n"
          ],
          "name": "stdout"
        }
      ]
    },
    {
      "cell_type": "markdown",
      "metadata": {
        "id": "12_CSc1F9xew"
      },
      "source": [
        "** Featureset Exploration **\n",
        "\n",
        "* **age**: continuous. \n",
        "* **workclass**: Private, Self-emp-not-inc, Self-emp-inc, Federal-gov, Local-gov, State-gov, Without-pay, Never-worked. \n",
        "* **education**: Bachelors, Some-college, 11th, HS-grad, Prof-school, Assoc-acdm, Assoc-voc, 9th, 7th-8th, 12th, Masters, 1st-4th, 10th, Doctorate, 5th-6th, Preschool. \n",
        "* **education-num**: continuous. \n",
        "* **marital-status**: Married-civ-spouse, Divorced, Never-married, Separated, Widowed, Married-spouse-absent, Married-AF-spouse. \n",
        "* **occupation**: Tech-support, Craft-repair, Other-service, Sales, Exec-managerial, Prof-specialty, Handlers-cleaners, Machine-op-inspct, Adm-clerical, Farming-fishing, Transport-moving, Priv-house-serv, Protective-serv, Armed-Forces. \n",
        "* **relationship**: Wife, Own-child, Husband, Not-in-family, Other-relative, Unmarried. \n",
        "* **race**: Black, White, Asian-Pac-Islander, Amer-Indian-Eskimo, Other. \n",
        "* **sex**: Female, Male. \n",
        "* **capital-gain**: continuous. \n",
        "* **capital-loss**: continuous. \n",
        "* **hours-per-week**: continuous. \n",
        "* **native-country**: United-States, Cambodia, England, Puerto-Rico, Canada, Germany, Outlying-US(Guam-USVI-etc), India, Japan, Greece, South, China, Cuba, Iran, Honduras, Philippines, Italy, Poland, Jamaica, Vietnam, Mexico, Portugal, Ireland, France, Dominican-Republic, Laos, Ecuador, Taiwan, Haiti, Columbia, Hungary, Guatemala, Nicaragua, Scotland, Thailand, Yugoslavia, El-Salvador, Trinadad&Tobago, Peru, Hong, Holand-Netherlands."
      ]
    },
    {
      "cell_type": "markdown",
      "metadata": {
        "id": "9TIw76MK9xex"
      },
      "source": [
        "----\n",
        "## Preparing the Data\n",
        "Before data can be used as input for machine learning algorithms, it often must be cleaned, formatted, and restructured — this is typically known as **preprocessing**. Fortunately, for this dataset, there are no invalid or missing entries we must deal with, however, there are some qualities about certain features that must be adjusted. This preprocessing can help tremendously with the outcome and predictive power of nearly all learning algorithms."
      ]
    },
    {
      "cell_type": "markdown",
      "metadata": {
        "id": "xhovGXJq9xex"
      },
      "source": [
        "### Transforming Skewed Continuous Features\n",
        "A dataset may sometimes contain at least one feature whose values tend to lie near a single number, but will also have a non-trivial number of vastly larger or smaller values than that single number.  Algorithms can be sensitive to such distributions of values and can underperform if the range is not properly normalized. With the census dataset two features fit this description: '`capital-gain'` and `'capital-loss'`. \n",
        "\n",
        "Run the code cell below to plot a histogram of these two features. Note the range of the values present and how they are distributed."
      ]
    },
    {
      "cell_type": "code",
      "metadata": {
        "id": "8ByOqCwv9xey"
      },
      "source": [
        "# Split the data into features and target label\n",
        "income_raw = data['income']\n",
        "\n",
        "features_raw = data.drop('income', axis = 1)\n",
        "\n",
        "# Visualize skewed continuous features of original data\n",
        "#vs.distribution(data)"
      ],
      "execution_count": 7,
      "outputs": []
    },
    {
      "cell_type": "markdown",
      "metadata": {
        "id": "vQjiMI339xey"
      },
      "source": [
        "For highly-skewed feature distributions such as `'capital-gain'` and `'capital-loss'`, it is common practice to apply a <a href=\"https://en.wikipedia.org/wiki/Data_transformation_(statistics)\">logarithmic transformation</a> on the data so that the very large and very small values do not negatively affect the performance of a learning algorithm. Using a logarithmic transformation significantly reduces the range of values caused by outliers. Care must be taken when applying this transformation however: The logarithm of `0` is undefined, so we must translate the values by a small amount above `0` to apply the the logarithm successfully.\n",
        "\n",
        "Run the code cell below to perform a transformation on the data and visualize the results. Again, note the range of values and how they are distributed. "
      ]
    },
    {
      "cell_type": "code",
      "metadata": {
        "id": "xG_9dKwZ9xez"
      },
      "source": [
        "# Log-transform the skewed features\n",
        "skewed = ['capital-gain', 'capital-loss']\n",
        "features_log_transformed = pd.DataFrame(data = features_raw)\n",
        "features_log_transformed[skewed] = features_raw[skewed].apply(lambda x: np.log(x + 1))\n",
        "\n",
        "# Visualize the new log distributions\n",
        "#vs.distribution(features_log_transformed, transformed = True)"
      ],
      "execution_count": 8,
      "outputs": []
    },
    {
      "cell_type": "markdown",
      "metadata": {
        "id": "NYBgf5039xez"
      },
      "source": [
        "### Normalizing Numerical Features\n",
        "In addition to performing transformations on features that are highly skewed, it is often good practice to perform some type of scaling on numerical features. Applying a scaling to the data does not change the shape of each feature's distribution (such as `'capital-gain'` or `'capital-loss'` above); however, normalization ensures that each feature is treated equally when applying supervised learners. Note that once scaling is applied, observing the data in its raw form will no longer have the same original meaning, as exampled below.\n",
        "\n",
        "Run the code cell below to normalize each numerical feature. We will use [`sklearn.preprocessing.MinMaxScaler`](http://scikit-learn.org/stable/modules/generated/sklearn.preprocessing.MinMaxScaler.html) for this."
      ]
    },
    {
      "cell_type": "code",
      "metadata": {
        "colab": {
          "base_uri": "https://localhost:8080/"
        },
        "id": "XXWNLHiZ9xez",
        "outputId": "875686a6-8329-4f1f-a6f0-265444dc2445"
      },
      "source": [
        "# Import sklearn.preprocessing.StandardScaler\n",
        "from sklearn.preprocessing import MinMaxScaler\n",
        "\n",
        "# Initialize a scaler, then apply it to the features\n",
        "scaler = MinMaxScaler() # default=(0, 1)\n",
        "numerical = ['age', 'education-num', 'capital-gain', 'capital-loss', 'hours-per-week']\n",
        "\n",
        "# Normalize the numerical data\n",
        "features_log_minmax_transform = pd.DataFrame(data = features_log_transformed)\n",
        "features_log_minmax_transform[numerical] = scaler.fit_transform(features_log_transformed[numerical])\n",
        "\n",
        "# Show an example of a record with scaling applied\n",
        "features_log_minmax_transform.age.describe()"
      ],
      "execution_count": 9,
      "outputs": [
        {
          "output_type": "execute_result",
          "data": {
            "text/plain": [
              "count    45222.000000\n",
              "mean         0.295177\n",
              "std          0.181067\n",
              "min          0.000000\n",
              "25%          0.150685\n",
              "50%          0.273973\n",
              "75%          0.410959\n",
              "max          1.000000\n",
              "Name: age, dtype: float64"
            ]
          },
          "metadata": {
            "tags": []
          },
          "execution_count": 9
        }
      ]
    },
    {
      "cell_type": "markdown",
      "metadata": {
        "id": "YkEH7gnZ9xez"
      },
      "source": [
        "### Implementation: Data Preprocessing\n",
        "\n",
        "From the table in **Exploring the Data** above, we can see there are several features for each record that are non-numeric. Typically, learning algorithms expect input to be numeric, which requires that non-numeric features (called *categorical variables*) be converted. One popular way to convert categorical variables is by using the **one-hot encoding** scheme. One-hot encoding creates a _\"dummy\"_ variable for each possible category of each non-numeric feature. For example, assume `someFeature` has three possible entries: `A`, `B`, or `C`. We then encode this feature into `someFeature_A`, `someFeature_B` and `someFeature_C`.\n",
        "\n",
        "|   | someFeature |                    | someFeature_A | someFeature_B | someFeature_C |\n",
        "| :-: | :-: |                            | :-: | :-: | :-: |\n",
        "| 0 |  B  |  | 0 | 1 | 0 |\n",
        "| 1 |  C  | ----> one-hot encode ----> | 0 | 0 | 1 |\n",
        "| 2 |  A  |  | 1 | 0 | 0 |\n",
        "\n",
        "Additionally, as with the non-numeric features, we need to convert the non-numeric target label, `'income'` to numerical values for the learning algorithm to work. Since there are only two possible categories for this label (\"<=50K\" and \">50K\"), we can avoid using one-hot encoding and simply encode these two categories as `0` and `1`, respectively. In code cell below, you will need to implement the following:\n",
        " - Use [`pandas.get_dummies()`](http://pandas.pydata.org/pandas-docs/stable/generated/pandas.get_dummies.html?highlight=get_dummies#pandas.get_dummies) to perform one-hot encoding on the `'features_log_minmax_transform'` data.\n",
        " - Convert the target label `'income_raw'` to numerical entries.\n",
        "   - Set records with \"<=50K\" to `0` and records with \">50K\" to `1`."
      ]
    },
    {
      "cell_type": "code",
      "metadata": {
        "colab": {
          "base_uri": "https://localhost:8080/"
        },
        "id": "_vC7j04c9xe0",
        "outputId": "4a43893e-e16b-45ee-9f0e-ea58df683542"
      },
      "source": [
        "# View input data\n",
        "features_log_minmax_transform.info()"
      ],
      "execution_count": 10,
      "outputs": [
        {
          "output_type": "stream",
          "text": [
            "<class 'pandas.core.frame.DataFrame'>\n",
            "RangeIndex: 45222 entries, 0 to 45221\n",
            "Data columns (total 13 columns):\n",
            " #   Column           Non-Null Count  Dtype  \n",
            "---  ------           --------------  -----  \n",
            " 0   age              45222 non-null  float64\n",
            " 1   workclass        45222 non-null  object \n",
            " 2   education_level  45222 non-null  object \n",
            " 3   education-num    45222 non-null  float64\n",
            " 4   marital-status   45222 non-null  object \n",
            " 5   occupation       45222 non-null  object \n",
            " 6   relationship     45222 non-null  object \n",
            " 7   race             45222 non-null  object \n",
            " 8   sex              45222 non-null  object \n",
            " 9   capital-gain     45222 non-null  float64\n",
            " 10  capital-loss     45222 non-null  float64\n",
            " 11  hours-per-week   45222 non-null  float64\n",
            " 12  native-country   45222 non-null  object \n",
            "dtypes: float64(5), object(8)\n",
            "memory usage: 4.5+ MB\n"
          ],
          "name": "stdout"
        }
      ]
    },
    {
      "cell_type": "code",
      "metadata": {
        "colab": {
          "base_uri": "https://localhost:8080/"
        },
        "id": "aRBrxIH99xe0",
        "scrolled": true,
        "outputId": "daf4fc16-fda3-4734-ce15-ef635d6ce2dc"
      },
      "source": [
        "# TODO: One-hot encode the 'features_log_minmax_transform' data using pandas.get_dummies()\n",
        "features_final = pd.get_dummies(features_log_minmax_transform)\n",
        "\n",
        "# TODO: Encode the target 'income_raw' data to numerical values\n",
        "income = pd.get_dummies(data['income'])\n",
        "\n",
        "# Drop extra column\n",
        "income.drop('<=50K', axis = 1, inplace=True)\n",
        "\n",
        "# Print the number of features after one-hot encoding\n",
        "encoded = list(features_final.columns)\n",
        "print(\"{} total features after one-hot encoding.\".format(len(encoded)))\n",
        "\n",
        "# Uncomment the following line to see the encoded feature names\n",
        "print(encoded)"
      ],
      "execution_count": 11,
      "outputs": [
        {
          "output_type": "stream",
          "text": [
            "103 total features after one-hot encoding.\n",
            "['age', 'education-num', 'capital-gain', 'capital-loss', 'hours-per-week', 'workclass_ Federal-gov', 'workclass_ Local-gov', 'workclass_ Private', 'workclass_ Self-emp-inc', 'workclass_ Self-emp-not-inc', 'workclass_ State-gov', 'workclass_ Without-pay', 'education_level_ 10th', 'education_level_ 11th', 'education_level_ 12th', 'education_level_ 1st-4th', 'education_level_ 5th-6th', 'education_level_ 7th-8th', 'education_level_ 9th', 'education_level_ Assoc-acdm', 'education_level_ Assoc-voc', 'education_level_ Bachelors', 'education_level_ Doctorate', 'education_level_ HS-grad', 'education_level_ Masters', 'education_level_ Preschool', 'education_level_ Prof-school', 'education_level_ Some-college', 'marital-status_ Divorced', 'marital-status_ Married-AF-spouse', 'marital-status_ Married-civ-spouse', 'marital-status_ Married-spouse-absent', 'marital-status_ Never-married', 'marital-status_ Separated', 'marital-status_ Widowed', 'occupation_ Adm-clerical', 'occupation_ Armed-Forces', 'occupation_ Craft-repair', 'occupation_ Exec-managerial', 'occupation_ Farming-fishing', 'occupation_ Handlers-cleaners', 'occupation_ Machine-op-inspct', 'occupation_ Other-service', 'occupation_ Priv-house-serv', 'occupation_ Prof-specialty', 'occupation_ Protective-serv', 'occupation_ Sales', 'occupation_ Tech-support', 'occupation_ Transport-moving', 'relationship_ Husband', 'relationship_ Not-in-family', 'relationship_ Other-relative', 'relationship_ Own-child', 'relationship_ Unmarried', 'relationship_ Wife', 'race_ Amer-Indian-Eskimo', 'race_ Asian-Pac-Islander', 'race_ Black', 'race_ Other', 'race_ White', 'sex_ Female', 'sex_ Male', 'native-country_ Cambodia', 'native-country_ Canada', 'native-country_ China', 'native-country_ Columbia', 'native-country_ Cuba', 'native-country_ Dominican-Republic', 'native-country_ Ecuador', 'native-country_ El-Salvador', 'native-country_ England', 'native-country_ France', 'native-country_ Germany', 'native-country_ Greece', 'native-country_ Guatemala', 'native-country_ Haiti', 'native-country_ Holand-Netherlands', 'native-country_ Honduras', 'native-country_ Hong', 'native-country_ Hungary', 'native-country_ India', 'native-country_ Iran', 'native-country_ Ireland', 'native-country_ Italy', 'native-country_ Jamaica', 'native-country_ Japan', 'native-country_ Laos', 'native-country_ Mexico', 'native-country_ Nicaragua', 'native-country_ Outlying-US(Guam-USVI-etc)', 'native-country_ Peru', 'native-country_ Philippines', 'native-country_ Poland', 'native-country_ Portugal', 'native-country_ Puerto-Rico', 'native-country_ Scotland', 'native-country_ South', 'native-country_ Taiwan', 'native-country_ Thailand', 'native-country_ Trinadad&Tobago', 'native-country_ United-States', 'native-country_ Vietnam', 'native-country_ Yugoslavia']\n"
          ],
          "name": "stdout"
        }
      ]
    },
    {
      "cell_type": "markdown",
      "metadata": {
        "id": "t6Ur47VR9xe1"
      },
      "source": [
        "----\n",
        "## Evaluating Model Performance\n",
        "In this section, we will investigate four different algorithms, and determine which is best at modeling the data. Three of these algorithms will be supervised learners of your choice, and the fourth algorithm is known as a *naive predictor*."
      ]
    },
    {
      "cell_type": "markdown",
      "metadata": {
        "id": "JLnyTkvL9xe1"
      },
      "source": [
        "### Metrics and the Naive Predictor\n",
        "*CharityML*, equipped with their research, knows individuals that make more than \\$50,000 are most likely to donate to their charity. Because of this, *CharityML* is particularly interested in predicting who makes more than \\$50,000 accurately. It would seem that using **accuracy** as a metric for evaluating a particular model's performace would be appropriate. Additionally, identifying someone that *does not* make more than \\$50,000 as someone who does would be detrimental to *CharityML*, since they are looking to find individuals willing to donate. Therefore, a model's ability to precisely predict those that make more than \\$50,000 is *more important* than the model's ability to **recall** those individuals. We can use **F-beta score** as a metric that considers both precision and recall:\n",
        "\n",
        "$$ F_{\\beta} = (1 + \\beta^2) \\cdot \\frac{precision \\cdot recall}{\\left( \\beta^2 \\cdot precision \\right) + recall} $$\n",
        "\n",
        "In particular, when $\\beta = 0.5$, more emphasis is placed on precision. This is called the **F$_{0.5}$ score** (or F-score for simplicity).\n",
        "\n",
        "Looking at the distribution of classes (those who make at most \\$50,000, and those who make more), it's clear most individuals do not make more than \\$50,000. This can greatly affect **accuracy**, since we could simply say *\"this person does not make more than \\$50,000\"* and generally be right, without ever looking at the data! Making such a statement would be called **naive**, since we have not considered any information to substantiate the claim. It is always important to consider the *naive prediction* for your data, to help establish a benchmark for whether a model is performing well. That been said, using that prediction would be pointless: If we predicted all people made less than \\$50,000, *CharityML* would identify no one as donors. \n",
        "\n",
        "\n",
        "#### Note: Recap of accuracy, precision, recall\n",
        "\n",
        "** Accuracy ** measures how often the classifier makes the correct prediction. It’s the ratio of the number of correct predictions to the total number of predictions (the number of test data points).\n",
        "\n",
        "** Precision ** tells us what proportion of messages we classified as spam, actually were spam.\n",
        "It is a ratio of true positives(words classified as spam, and which are actually spam) to all positives(all words classified as spam, irrespective of whether that was the correct classificatio), in other words it is the ratio of\n",
        "\n",
        "`[True Positives/(True Positives + False Positives)]`\n",
        "\n",
        "** Recall(sensitivity)** tells us what proportion of messages that actually were spam were classified by us as spam.\n",
        "It is a ratio of true positives(words classified as spam, and which are actually spam) to all the words that were actually spam, in other words it is the ratio of\n",
        "\n",
        "`[True Positives/(True Positives + False Negatives)]`\n",
        "\n",
        "For classification problems that are skewed in their classification distributions like in our case, for example if we had a 100 text messages and only 2 were spam and the rest 98 weren't, accuracy by itself is not a very good metric. We could classify 90 messages as not spam(including the 2 that were spam but we classify them as not spam, hence they would be false negatives) and 10 as spam(all 10 false positives) and still get a reasonably good accuracy score. For such cases, precision and recall come in very handy. These two metrics can be combined to get the F1 score, which is weighted average(harmonic mean) of the precision and recall scores. This score can range from 0 to 1, with 1 being the best possible F1 score(we take the harmonic mean as we are dealing with ratios)."
      ]
    },
    {
      "cell_type": "markdown",
      "metadata": {
        "id": "5Wi-7vJh9xe1"
      },
      "source": [
        "### Question 1 - Naive Predictor Performace\n",
        "* If we chose a model that always predicted an individual made more than $50,000, what would  that model's accuracy and F-score be on this dataset? You must use the code cell below and assign your results to `'accuracy'` and `'fscore'` to be used later.\n",
        "\n",
        "** Please note ** that the the purpose of generating a naive predictor is simply to show what a base model without any intelligence would look like. In the real world, ideally your base model would be either the results of a previous model or could be based on a research paper upon which you are looking to improve. When there is no benchmark model set, getting a result better than random choice is a place you could start from.\n",
        "\n",
        "** HINT: ** \n",
        "\n",
        "* When we have a model that always predicts '1' (i.e. the individual makes more than 50k) then our model will have no True Negatives(TN) or False Negatives(FN) as we are not making any negative('0' value) predictions. Therefore our Accuracy in this case becomes the same as our Precision(True Positives/(True Positives + False Positives)) as every prediction that we have made with value '1' that should have '0' becomes a False Positive; therefore our denominator in this case is the total number of records we have in total. \n",
        "* Our Recall score(True Positives/(True Positives + False Negatives)) in this setting becomes 1 as we have no False Negatives."
      ]
    },
    {
      "cell_type": "code",
      "metadata": {
        "colab": {
          "base_uri": "https://localhost:8080/"
        },
        "id": "BOELWgXz9xe2",
        "outputId": "1598c906-c78d-4cff-cb96-8e440214fa55"
      },
      "source": [
        "'''\n",
        "TP = np.sum(income) # Counting the ones as this is the naive case. Note that 'income' is the 'income_raw' data \n",
        "encoded to numerical values done in the data preprocessing step.\n",
        "FP = income.count() - TP # Specific to the naive case\n",
        "\n",
        "TN = 0 # No predicted negatives in the naive case\n",
        "FN = 0 # No predicted negatives in the naive case\n",
        "'''\n",
        "\n",
        "TP = int(income.sum())\n",
        "FP = int(income.count() - TP)\n",
        "\n",
        "# TODO: Calculate accuracy, precision and recall\n",
        "accuracy = TP/(TP + FP)\n",
        "recall = 1\n",
        "precision = TP/(TP + FP)\n",
        "b = 0.5*0.5\n",
        "\n",
        "# TODO: Calculate F-score using the formula above for beta = 0.5 and correct values for precision and recall.\n",
        "fscore = (1+b)*((precision*recall)/((b*precision)+recall))\n",
        "\n",
        "# Print the results \n",
        "print(\"Naive Predictor: [Accuracy score: {:.4f}, F-score: {:.4f}]\".format(accuracy, fscore))"
      ],
      "execution_count": 12,
      "outputs": [
        {
          "output_type": "stream",
          "text": [
            "Naive Predictor: [Accuracy score: 0.2478, F-score: 0.2917]\n"
          ],
          "name": "stdout"
        }
      ]
    },
    {
      "cell_type": "markdown",
      "metadata": {
        "id": "yZ1skfgF9xe2"
      },
      "source": [
        "###  Supervised Learning Models\n",
        "**The following are some of the supervised learning models that are currently available in** [`scikit-learn`](http://scikit-learn.org/stable/supervised_learning.html) **that you may choose from:**\n",
        "- Gaussian Naive Bayes (GaussianNB)\n",
        "- Decision Trees\n",
        "- Ensemble Methods (Bagging, AdaBoost, Random Forest, Gradient Boosting)\n",
        "- K-Nearest Neighbors (KNeighbors)\n",
        "- Stochastic Gradient Descent Classifier (SGDC)\n",
        "- Support Vector Machines (SVM)\n",
        "- Logistic Regression"
      ]
    },
    {
      "cell_type": "markdown",
      "metadata": {
        "id": "ACovS2Kb9xe2"
      },
      "source": [
        "### Question 2 - Model Application\n",
        "List three of the supervised learning models above that are appropriate for this problem that you will test on the census data. For each model chosen\n",
        "\n",
        "- Describe one real-world application in industry where the model can be applied. \n",
        "- What are the strengths of the model; when does it perform well?\n",
        "- What are the weaknesses of the model; when does it perform poorly?\n",
        "- What makes this model a good candidate for the problem, given what you know about the data?"
      ]
    },
    {
      "cell_type": "markdown",
      "metadata": {
        "id": "2fswcJiA9xe2"
      },
      "source": [
        "### LogisticRegression \n",
        "*Answer:*\n",
        "\n",
        "- What are the strengths of the model; when does it perform well?\n",
        "- ans: Can provides probability estimators for each prediction. So we’re able to see the likeness of each prediction between 0 and 1.  This model works well when there is a linear relationship between the features (inputs) and the predictor (target/label).  The model is less likely to over-fit when processing low dimension data sets. The model is easy to implement and interpret. It does not require a large amounts of data to make accurate predictions. \n",
        "\n",
        "- What are the weaknesses of the model; when does it perform poorly?\n",
        "- ans: The model does not perform well if given a high dimension data sets. Regression models generally don’t perform well with high dimension data because they tend to encounter issues with multi-collinearity. If the number of observations are lesser than the number of features, Logistic Regression doesn’t perform well and this may lead to over-fitting. \n",
        "\n",
        "- What makes this model a good candidate for the problem, given what you know about the data?\n",
        "- ans: The number of observations was less than the number of features (45222 rows, 13 features). Although I have not generated a visualization at this point, I believe there may linear correlation between some of the features and the predictor (target).  The target is a discrete value, Logistic Regression is a classification model, which is also why this model was selected. I do have some concerns that the models accuracy may decrease post of creating the dummy variables. One possible option is to run Regularization (L1 and L2) techniques to avoid over-fitting if the model doesn't generalize well.  \n",
        "\n",
        "Reference 1 > https://github.com/ctufts/Cheat_Sheets/wiki/Classification-Model-Pros-and-Cons#:~:text=Classification%20Model%20Pros%20and%20Cons%201%20Logistic%20Regression,Regular%20%28not%20bagged%20or%20boosted%29%20More%20items...%20\n",
        "\n",
        "Reference 2> http://ucanalytics.com/blogs/case-study-example-banking-logistic-regression-3/\n",
        "\n",
        "Reference 3 > https://www.i2tutorials.com/what-are-the-advantages-and-disadvantages-of-logistic-regression/"
      ]
    },
    {
      "cell_type": "markdown",
      "metadata": {
        "id": "--JOFZ9d9xe2"
      },
      "source": [
        "### Random Forest Classifier\n",
        "*Answer:*\n",
        "\n",
        "- Describe one real-world application in industry where the model can be applied.\n",
        "- ans – predicting attrition and customer churn is a use case of this model\n",
        "\n",
        "- What are the strengths of the model; when does it perform well?\n",
        "- ans – It can make accurate predictions even with missing data due to the ensemble learning method. This model can be used to predict continuous or discrete values. It creates as many decision trees (weak learners) on the subset of the data and combines the output of all the trees. In this way it reduces over-fitting, reduces the variance and improves the accuracy. This model can be highly accurate and hand high dimension feature sets because of it’s ensemble technique. Can handles non-linear parameters.  \n",
        "\n",
        "- What are the weaknesses of the model; when does it perform poorly?\n",
        "- ans – Due to the ensemble (decision trees), the model is rather slow to train. Requires much more computational power and resources. Not easy to explain visually as a Regression model. \n",
        "\n",
        "- What makes this model a good candidate for the problem, given what you know about the data?\n",
        "- ans – This classification model is appropriate for this classification problem. Not fully aware if there will be a linear or non-linear relationship between the input (features) and the predictor, however the model can handle either case. The dimensions of this model will increase post of creating dummy variables, considering the model can handle higher dimensions; this shouldn’t be a problem for processing. \n",
        "\n",
        "Reference 1 > https://towardsdatascience.com/decision-tree-and-random-forest-explained-8d20ddabc9dd\n",
        "\n",
        "Reference 2 > https://theprofessionalspoint.blogspot.com/2019/02/advantages-and-disadvantages-of-random.html"
      ]
    },
    {
      "cell_type": "markdown",
      "metadata": {
        "id": "rT3Ibn8o9xe2"
      },
      "source": [
        "### Naive Bayes\n",
        "**Answer: **\n",
        "\n",
        "- Describe one real-world application in industry where the model can be applied.\n",
        "- ans – Identifying spam/ham. Text classification, speech classification, imagine classification\n",
        "\n",
        "- What are the strengths of the model; when does it perform well?\n",
        "- ans – The time to train a model is low depending on the amount of data. Easy to implement and doesn’t require large amounts of data to train. When assumption of independent predictors holds true, a Naive Bayes classifier performs better as compared to other models.\n",
        "\n",
        "- What are the weaknesses of the model; when does it perform poorly?\n",
        "- ans – the strength of the model is partly it’s weakness, Naive Bayes assumes independent predictors. Naive Bayes implicitly assumes that all the attributes are mutually independent. However this is rarely the case in real life. \n",
        "\n",
        "- What makes this model a good candidate for the problem, given what you know about the data?\n",
        "- This is a classification problem which is appropriate for this model. Not fully understanding the data at this point, I will naively assume the exploratory variables are independent; until we make the posterior prediction. Processing time (model training) is lower than the Random Forest Classifier since this particular model is not an ensemble method. \n",
        "\n",
        "- Reference 1 > https://heyitskoushik.wordpress.com/2017/12/25/support-vector-machine-algorithm-with-example/#:~:text=Pros%20and%20Cons%20associated%20with%20SVM%201%20Pros%3A,it%20is%20also%20memory%20efficient.%20More%20items...%20\n",
        "\n",
        "- Reference 2 > https://theprofessionalspoint.blogspot.com/2019/03/advantages-and-disadvantages-of-naive.html\n",
        "\n",
        "- Reference 3 > Udacity, Intro to ML, lesson 5 (Navie Bayes). "
      ]
    },
    {
      "cell_type": "markdown",
      "metadata": {
        "id": "Yd9ToWbC9xe3"
      },
      "source": [
        "### Implementation - Creating a Training and Predicting Pipeline\n",
        "To properly evaluate the performance of each model you've chosen, it's important that you create a training and predicting pipeline that allows you to quickly and effectively train models using various sizes of training data and perform predictions on the testing data. Your implementation here will be used in the following section.\n",
        "In the code block below, you will need to implement the following:\n",
        " - Import `fbeta_score` and `accuracy_score` from [`sklearn.metrics`](http://scikit-learn.org/stable/modules/classes.html#sklearn-metrics-metrics).\n",
        " - Fit the learner to the sampled training data and record the training time.\n",
        " - Perform predictions on the test data `X_test`, and also on the first 300 training points `X_train[:300]`.\n",
        "   - Record the total prediction time.\n",
        " - Calculate the accuracy score for both the training subset and testing set.\n",
        " - Calculate the F-score for both the training subset and testing set.\n",
        "   - Make sure that you set the `beta` parameter!"
      ]
    },
    {
      "cell_type": "code",
      "metadata": {
        "colab": {
          "base_uri": "https://localhost:8080/"
        },
        "id": "4jiCyYqQ9xe3",
        "outputId": "d2c5d0ec-c934-4d3e-b2ef-aba0858f38bd"
      },
      "source": [
        "# Import train_test_split\n",
        "from sklearn.model_selection import train_test_split\n",
        "\n",
        "# Split the 'features' and 'income' data into training and testing sets\n",
        "X_train, X_test, y_train, y_test = train_test_split(features_final, \n",
        "                                                    income, \n",
        "                                                    test_size = 0.2, \n",
        "                                                    random_state = 0)\n",
        "\n",
        "# Show the results of the split\n",
        "print(\"Training set has {} samples.\".format(X_train.shape[0]))\n",
        "print(\"Testing set has {} samples.\".format(X_test.shape[0]))"
      ],
      "execution_count": 13,
      "outputs": [
        {
          "output_type": "stream",
          "text": [
            "Training set has 36177 samples.\n",
            "Testing set has 9045 samples.\n"
          ],
          "name": "stdout"
        }
      ]
    },
    {
      "cell_type": "code",
      "metadata": {
        "colab": {
          "base_uri": "https://localhost:8080/"
        },
        "id": "IMEJNyXz9xe4",
        "outputId": "e9c56a85-a399-4b0a-f976-4dc8c15671c6"
      },
      "source": [
        "# Information about label y\n",
        "print(\"Label train data type:\", type(y_train))\n",
        "print(\"Label shape:\", y_train.shape)\n",
        "print(\"Label test data type:\", type(y_test))\n",
        "print(\"Label shape:\", y_test.shape)"
      ],
      "execution_count": 14,
      "outputs": [
        {
          "output_type": "stream",
          "text": [
            "Label train data type: <class 'pandas.core.frame.DataFrame'>\n",
            "Label shape: (36177, 1)\n",
            "Label test data type: <class 'pandas.core.frame.DataFrame'>\n",
            "Label shape: (9045, 1)\n"
          ],
          "name": "stdout"
        }
      ]
    },
    {
      "cell_type": "code",
      "metadata": {
        "colab": {
          "base_uri": "https://localhost:8080/"
        },
        "id": "rst7_Y649xe4",
        "outputId": "4eba9d55-73cb-48cc-d4c4-e80414db752e"
      },
      "source": [
        "# Used to test code prior to train_predict function below\n",
        "\n",
        "# Data conversion warning\n",
        "import warnings\n",
        "from sklearn.exceptions import DataConversionWarning\n",
        "warnings.filterwarnings(action='ignore', category=DataConversionWarning)\n",
        "\n",
        "# Import model\n",
        "from sklearn.svm import SVC\n",
        "from sklearn import metrics\n",
        "\n",
        "# Create classifier\n",
        "learner = SVC(kernel = 'rbf', random_state = 0)\n",
        "\n",
        "# sample set\n",
        "sample_size = 300\n",
        "\n",
        "# Sample sets\n",
        "X = X_train.iloc[:sample_size]\n",
        "y = y_train.iloc[:sample_size]\n",
        "\n",
        "# Start time\n",
        "start = time()\n",
        "\n",
        "# Fit model to data\n",
        "learner.fit(X, y)\n",
        "\n",
        "# Prediction\n",
        "y_hat = learner.predict(X_test)\n",
        "\n",
        "# End time\n",
        "end = time()   \n",
        "\n",
        "# Total time\n",
        "total_time = end - start\n",
        "\n",
        "print(\"Time runtime:\", total_time)\n",
        "print(\"Accuracy Score:\", metrics.accuracy_score(y_test,  y_hat))"
      ],
      "execution_count": 15,
      "outputs": [
        {
          "output_type": "stream",
          "text": [
            "Time runtime: 0.2932314872741699\n",
            "Accuracy Score: 0.8173576561636263\n"
          ],
          "name": "stdout"
        }
      ]
    },
    {
      "cell_type": "code",
      "metadata": {
        "id": "3LgwZuuq9xe4"
      },
      "source": [
        "# TODO: Import two metrics from sklearn - fbeta_score and accuracy_score\n",
        "\n",
        "# from sklearn.metrics import fbeta_score\n",
        "# from skleran.metrics import accuracy_score \n",
        "# from sklearn.metrics import jaccard_similarity_score\n",
        "# from sklearn.metrics import f1_score\n",
        "# from sklearn.metrics import log_loss\n",
        "# from sklearn.metrics import confusion_matrix\n",
        "# from sklearn.metrics import classification_report\n",
        "from sklearn import metrics\n",
        "from sklearn.metrics import fbeta_score\n",
        "from sklearn.metrics import accuracy_score\n",
        "\n",
        "def train_predict(learner, sample_size, X_train, y_train, X_test, y_test): \n",
        "#sample_size\n",
        "    '''\n",
        "    inputs:\n",
        "       - learner: the learning algorithm to be trained and predicted on\n",
        "       - X: the size of samples (number) to be drawn from training set\n",
        "       - y: the size of label sample set drawn from training\n",
        "       - X_train: features training set\n",
        "       - y_train: income training set\n",
        "       - X_test: features testing set\n",
        "       - y_test: income testing set\n",
        "    '''\n",
        "    \n",
        "    results = {}\n",
        "    \n",
        "#     # TODO: Fit the learner to the training data using slicing with 'sample_size' using .fit(training_features[:], training_labels[:])\n",
        "#     start = time() # Get start time\n",
        "#     learner = None\n",
        "#     end = time() # Get end time\n",
        "\n",
        "#     # TODO: Fit the learner to the training data using slicing with 'sample_size > X' using .fit(training_features[:], training_labels[:])\n",
        "    start = time()\n",
        "    learner.fit(X_train[:sample_size], y_train[:sample_size])\n",
        "    end = time()   \n",
        "    \n",
        "    # TODO: Calculate the training time\n",
        "    results['train_time'] = end - start\n",
        "        \n",
        "    # TODO: Get the predictions on the test set(X_test),\n",
        "    #       then get predictions on the first 300 training samples(X_train) using .predict()\n",
        "    start = time() # Get start time\n",
        "    predictions_test = learner.predict(X_test)\n",
        "    #predictions_train = learner.predict(X_train[:sample_size])\n",
        "    predictions_train = learner.predict(X_train[:300])\n",
        "    end = time() # Get end time\n",
        "    \n",
        "    # TODO: Calculate the total prediction time\n",
        "    results['pred_time'] = end - start\n",
        "            \n",
        "    # TODO: Compute accuracy on the first 300 training samples which is y_train[:300]\n",
        "    results['acc_train'] = metrics.accuracy_score(y_train[:300],  predictions_train)\n",
        "    \n",
        "    # TODO: Compute accuracy on test set using accuracy_score()\n",
        "    results['acc_test'] = metrics.accuracy_score(y_test,  predictions_test)\n",
        "    \n",
        "    # TODO: Compute F-score on the the first 300 training samples using fbeta_score()\n",
        "    results['f_train'] = metrics.fbeta_score(y_train[:300], predictions_train, beta=0.5)\n",
        "        \n",
        "    # TODO: Compute F-score on the test set which is y_test\n",
        "    results['f_test'] = metrics.fbeta_score(y_test, predictions_test, beta=0.5)\n",
        "       \n",
        "    # Success\n",
        "    print(\"{} trained on {} samples.\".format(learner.__class__.__name__, sample_size))\n",
        "    \n",
        "    return results"
      ],
      "execution_count": 16,
      "outputs": []
    },
    {
      "cell_type": "code",
      "metadata": {
        "colab": {
          "base_uri": "https://localhost:8080/"
        },
        "id": "MKcDZMSZ9xe4",
        "outputId": "256ed796-4f82-4449-e3ad-13571d33492e"
      },
      "source": [
        "# import library\n",
        "from sklearn.linear_model import LogisticRegression\n",
        "\n",
        "# Create classifier\n",
        "learner = LogisticRegression(random_state=0)\n",
        "\n",
        "# Sample sets\n",
        "sample_size = 300\n",
        "\n",
        "# Run function\n",
        "train_predict(learner, sample_size, X_train, y_train, X_test, y_test)"
      ],
      "execution_count": 17,
      "outputs": [
        {
          "output_type": "stream",
          "text": [
            "LogisticRegression trained on 300 samples.\n"
          ],
          "name": "stdout"
        },
        {
          "output_type": "execute_result",
          "data": {
            "text/plain": [
              "{'acc_test': 0.8258706467661692,\n",
              " 'acc_train': 0.8633333333333333,\n",
              " 'f_test': 0.6478366778795963,\n",
              " 'f_train': 0.753968253968254,\n",
              " 'pred_time': 0.006173849105834961,\n",
              " 'train_time': 0.029213428497314453}"
            ]
          },
          "metadata": {
            "tags": []
          },
          "execution_count": 17
        }
      ]
    },
    {
      "cell_type": "code",
      "metadata": {
        "colab": {
          "base_uri": "https://localhost:8080/"
        },
        "id": "cOznC4pi9xe5",
        "outputId": "dc4c1bbe-c577-46a1-df69-8639965f7e5c"
      },
      "source": [
        "# import library\n",
        "from sklearn.ensemble import RandomForestClassifier\n",
        "\n",
        "# Create classifier\n",
        "learner = RandomForestClassifier(n_estimators = 10, criterion = 'entropy', random_state = 0)\n",
        "\n",
        "# Sample sets\n",
        "sample_size = 300\n",
        "\n",
        "# Run function\n",
        "train_predict(learner, sample_size, X_train, y_train, X_test, y_test)"
      ],
      "execution_count": 18,
      "outputs": [
        {
          "output_type": "stream",
          "text": [
            "RandomForestClassifier trained on 300 samples.\n"
          ],
          "name": "stdout"
        },
        {
          "output_type": "execute_result",
          "data": {
            "text/plain": [
              "{'acc_test': 0.8110558319513543,\n",
              " 'acc_train': 0.99,\n",
              " 'f_test': 0.6097426267535625,\n",
              " 'f_train': 0.9913793103448275,\n",
              " 'pred_time': 0.021350622177124023,\n",
              " 'train_time': 0.01899433135986328}"
            ]
          },
          "metadata": {
            "tags": []
          },
          "execution_count": 18
        }
      ]
    },
    {
      "cell_type": "code",
      "metadata": {
        "colab": {
          "base_uri": "https://localhost:8080/"
        },
        "id": "Eyg-RATx9xe5",
        "outputId": "aaea3e5e-6b84-4fb6-f7bd-611a3cf216f0"
      },
      "source": [
        "# import library\n",
        "from sklearn.naive_bayes import GaussianNB\n",
        "\n",
        "# Create classifier\n",
        "learner = GaussianNB()\n",
        "\n",
        "# Sample sets\n",
        "sample_size = 300\n",
        "\n",
        "# Run function\n",
        "train_predict(learner, sample_size, X_train, y_train, X_test, y_test)"
      ],
      "execution_count": 19,
      "outputs": [
        {
          "output_type": "stream",
          "text": [
            "GaussianNB trained on 300 samples.\n"
          ],
          "name": "stdout"
        },
        {
          "output_type": "execute_result",
          "data": {
            "text/plain": [
              "{'acc_test': 0.3556661138750691,\n",
              " 'acc_train': 0.4,\n",
              " 'f_test': 0.3112881406884112,\n",
              " 'f_train': 0.3333333333333333,\n",
              " 'pred_time': 0.020611047744750977,\n",
              " 'train_time': 0.002439737319946289}"
            ]
          },
          "metadata": {
            "tags": []
          },
          "execution_count": 19
        }
      ]
    },
    {
      "cell_type": "markdown",
      "metadata": {
        "id": "Mr67NDLR9xe6"
      },
      "source": [
        "### Implementation: Initial Model Evaluation\n",
        "In the code cell, you will need to implement the following:\n",
        "- Import the three supervised learning models you've discussed in the previous section.\n",
        "- Initialize the three models and store them in `'clf_A'`, `'clf_B'`, and `'clf_C'`.\n",
        "  - Use a `'random_state'` for each model you use, if provided.\n",
        "  - **Note:** Use the default settings for each model — you will tune one specific model in a later section.\n",
        "- Calculate the number of records equal to 1%, 10%, and 100% of the training data.\n",
        "  - Store those values in `'samples_1'`, `'samples_10'`, and `'samples_100'` respectively.\n",
        "\n",
        "**Note:** Depending on which algorithms you chose, the following implementation may take some time to run!"
      ]
    },
    {
      "cell_type": "code",
      "metadata": {
        "colab": {
          "base_uri": "https://localhost:8080/"
        },
        "id": "bTHPr5tU9xe6",
        "outputId": "f1f6b6d8-2b3f-4f22-c626-26209b813d24"
      },
      "source": [
        "# TODO: Import the three supervised learning models from sklearn\n",
        "from sklearn.linear_model import LogisticRegression\n",
        "from sklearn.ensemble import RandomForestClassifier\n",
        "from sklearn.naive_bayes import GaussianNB\n",
        "\n",
        "# Ignore deprecate and user warnings message\n",
        "import warnings\n",
        "warnings.simplefilter(action='ignore', category=FutureWarning)\n",
        "warnings.simplefilter(action='ignore', category=UserWarning)\n",
        "\n",
        "\n",
        "# TODO: Initialize the three models\n",
        "clf_A = LogisticRegression(random_state=0)\n",
        "clf_B = RandomForestClassifier(n_estimators = 10, criterion = 'entropy', random_state = 0)\n",
        "clf_C = GaussianNB()\n",
        "\n",
        "# TODO: Calculate the number of samples for 1%, 10%, and 100% of the training data\n",
        "# HINT: samples_100 is the entire training set i.e. len(y_train)\n",
        "# HINT: samples_10 is 10% of samples_100 (ensure to set the count of the values to be `int` and not `float`)\n",
        "# HINT: samples_1 is 1% of samples_100 (ensure to set the count of the values to be `int` and not `float`)\n",
        "\n",
        "samples_100 = X_train.shape[0]\n",
        "samples_10 = int(X_train.shape[0]/10)\n",
        "samples_1 = int(X_train.shape[0]/100)\n",
        "\n",
        "# Collect results on the learners\n",
        "results = {}\n",
        "for clf in [clf_A, clf_B, clf_C]:\n",
        "    clf_name = clf.__class__.__name__\n",
        "    results[clf_name] = {}\n",
        "    for i, samples in enumerate([samples_1, samples_10, samples_100]):\n",
        "        results[clf_name][i] = \\\n",
        "        train_predict(clf, samples, X_train, y_train, X_test, y_test)\n",
        "\n",
        "# Run metrics visualization for the three supervised learning models chosen\n",
        "#vs.evaluate(results, accuracy, fscore)"
      ],
      "execution_count": 20,
      "outputs": [
        {
          "output_type": "stream",
          "text": [
            "LogisticRegression trained on 361 samples.\n",
            "LogisticRegression trained on 3617 samples.\n",
            "LogisticRegression trained on 36177 samples.\n",
            "RandomForestClassifier trained on 361 samples.\n",
            "RandomForestClassifier trained on 3617 samples.\n",
            "RandomForestClassifier trained on 36177 samples.\n",
            "GaussianNB trained on 361 samples.\n",
            "GaussianNB trained on 3617 samples.\n",
            "GaussianNB trained on 36177 samples.\n"
          ],
          "name": "stdout"
        }
      ]
    },
    {
      "cell_type": "code",
      "metadata": {
        "colab": {
          "base_uri": "https://localhost:8080/"
        },
        "id": "xIwuvATq9xe6",
        "outputId": "3e4f81e4-74bd-4b35-a586-ba3edbf88b3f"
      },
      "source": [
        "# Import CV library\n",
        "from sklearn.model_selection import cross_val_score\n",
        "\n",
        "# Import model Linear Regression\n",
        "from sklearn.linear_model import LogisticRegression\n",
        "\n",
        "# Develop model\n",
        "lr = LogisticRegression(random_state=0)\n",
        "\n",
        "# Develop cross validation\n",
        "lr_val = cross_val_score(estimator = lr, X = X_train, y = y_train, cv = 10)\n",
        "\n",
        "# Print CV score\n",
        "print(\"Logistic Regression cv score:\", lr_val.mean())\n",
        "\n",
        "# Import model Random Forest Classifer\n",
        "from sklearn.ensemble import RandomForestClassifier\n",
        "\n",
        "# Develop model\n",
        "rft = RandomForestClassifier(n_estimators = 200, criterion = 'entropy', random_state = 0)\n",
        "\n",
        "# Develop cross validation\n",
        "tree_val = cross_val_score(estimator = rft, X = X_train, y = y_train, cv = 10)\n",
        "\n",
        "# Print CV score\n",
        "print(\"Random Forest Classifer cv score:\", tree_val.mean())\n",
        "\n",
        "# Import model Navie Bayes\n",
        "from sklearn.naive_bayes import GaussianNB\n",
        "\n",
        "# Develop model\n",
        "nb = GaussianNB()\n",
        "\n",
        "# Develop cross validation\n",
        "nb_val = cross_val_score(estimator = nb, X = X_train, y = y_train, cv = 10)\n",
        "\n",
        "# Print CV score\n",
        "print(\"Navie Bayes cv score:\", nb_val.mean())"
      ],
      "execution_count": 21,
      "outputs": [
        {
          "output_type": "stream",
          "text": [
            "Logistic Regression cv score: 0.8414186020103763\n",
            "Random Forest Classifer cv score: 0.8411146354058967\n",
            "Navie Bayes cv score: 0.5925311390395425\n"
          ],
          "name": "stdout"
        }
      ]
    },
    {
      "cell_type": "markdown",
      "metadata": {
        "id": "nBD6__uN9xe6"
      },
      "source": [
        "----\n",
        "## Improving Results\n",
        "In this final section, you will choose from the three supervised learning models the *best* model to use on the student data. You will then perform a grid search optimization for the model over the entire training set (`X_train` and `y_train`) by tuning at least one parameter to improve upon the untuned model's F-score. "
      ]
    },
    {
      "cell_type": "markdown",
      "metadata": {
        "id": "07VMoqQ09xe6"
      },
      "source": [
        "### Question 3 - Choosing the Best Model\n",
        "\n",
        "* Based on the evaluation you performed earlier, in one to two paragraphs, explain to *CharityML* which of the three models you believe to be most appropriate for the task of identifying individuals that make more than \\$50,000. \n",
        "\n",
        "** HINT: ** \n",
        "Look at the graph at the bottom left from the cell above(the visualization created by `vs.evaluate(results, accuracy, fscore)`) and check the F score for the testing set when 100% of the training set is used. Which model has the highest score? Your answer should include discussion of the:\n",
        "* metrics - F score on the testing when 100% of the training data is used, \n",
        "* prediction/training time\n",
        "* the algorithm's suitability for the data."
      ]
    },
    {
      "cell_type": "markdown",
      "metadata": {
        "id": "qWXaKYSW9xe6"
      },
      "source": [
        "**Answer: **\n",
        "\n",
        "Based on the F-score of the testing set the Logistic Regression and Random Forest Classifier are comparable as well as the cross validation scores. Based on training time Logistic Regression is superior. I wasn't expecting the Logistic model to do as well considering the model's weakness when dealing with a higher dimensions. The model is suitable for this data set. I did not try the regularization method (L1 and L2) and have not confirmed if the model was over-fitting. The Random Forest Classifier handles higher dimensions better than the Logistic model based on the model’s strengths.  Thus would select the Random Forest Classifier due to it’s performance and since the training time is a factor I would reduce training data, to reduce training time. "
      ]
    },
    {
      "cell_type": "markdown",
      "metadata": {
        "id": "H3BfX1to9xe7"
      },
      "source": [
        "### Question 4 - Describing the Model in Layman's Terms\n",
        "\n",
        "* In one to two paragraphs, explain to *CharityML*, in layman's terms, how the final model chosen is supposed to work. Be sure that you are describing the major qualities of the model, such as how the model is trained and how the model makes a prediction. Avoid using advanced mathematical jargon, such as describing equations.\n",
        "\n",
        "** HINT: **\n",
        "\n",
        "When explaining your model, if using external resources please include all citations."
      ]
    },
    {
      "cell_type": "markdown",
      "metadata": {
        "id": "nwPFdVKk9xe8"
      },
      "source": [
        "*Answer:*\n",
        "\n",
        "RandomForest is set of decision trees. Suppose if you have some fruits (apple, orange, lemon etc) you can tell the fruit name based on color, weight, taste etc. So for the above fruits if you say the size is small and color is yellow then it is lemon.\n",
        "We can use decision trees to predict the fruit based on different features(color, weight, taste etc).\n",
        "Random Forest uses a lot of decision trees (say, an ensemble), where each tree a little bit different from the others. When we get a new fruit, we take the majority vote of the ensemble to get a final result.\n",
        "\n",
        "So how are the trees different? Well,\n",
        "    • We used random samples of the observations to train them (they've each seen only part of the data) , and \n",
        "    • We used a subset of the features for each tree.\n",
        "For example the first tree for the first choice may have to pick best classifier between age and education_num. The next decision branch gets to choose between two features independent of what any previous branches evaluated. This might be age and hours-per-week. It will pick the best split possible with those criteria. By default, a Random Forest will use the sqaure root of the number of features as the maximum features that it will look on any given branch. In our case we have total 13 features, so each decision will be the best of the 4(approximate) randomly selected features available. \n",
        "From the given charity census data majority of the features are equally important and independent from one another. So it would be better to use RandomForestClassifier for better prediction of the data"
      ]
    },
    {
      "cell_type": "markdown",
      "metadata": {
        "id": "iA0C8-Cn9xe8"
      },
      "source": [
        "### Implementation: Model Tuning\n",
        "Fine tune the chosen model. Use grid search (`GridSearchCV`) with at least one important parameter tuned with at least 3 different values. You will need to use the entire training set for this. In the code cell below, you will need to implement the following:\n",
        "- Import [`sklearn.grid_search.GridSearchCV`](http://scikit-learn.org/0.17/modules/generated/sklearn.grid_search.GridSearchCV.html) and [`sklearn.metrics.make_scorer`](http://scikit-learn.org/stable/modules/generated/sklearn.metrics.make_scorer.html).\n",
        "- Initialize the classifier you've chosen and store it in `clf`.\n",
        " - Set a `random_state` if one is available to the same state you set before.\n",
        "- Create a dictionary of parameters you wish to tune for the chosen model.\n",
        " - Example: `parameters = {'parameter' : [list of values]}`.\n",
        " - **Note:** Avoid tuning the `max_features` parameter of your learner if that parameter is available!\n",
        "- Use `make_scorer` to create an `fbeta_score` scoring object (with $\\beta = 0.5$).\n",
        "- Perform grid search on the classifier `clf` using the `'scorer'`, and store it in `grid_obj`.\n",
        "- Fit the grid search object to the training data (`X_train`, `y_train`), and store it in `grid_fit`.\n",
        "\n",
        "**Note:** Depending on the algorithm chosen and the parameter list, the following implementation may take some time to run!"
      ]
    },
    {
      "cell_type": "code",
      "metadata": {
        "id": "oe5MENhU9xe8"
      },
      "source": [
        "# TODO: Import 'GridSearchCV', 'make_scorer', and any other necessary libraries\n",
        "from sklearn.model_selection import GridSearchCV\n",
        "from sklearn.metrics import make_scorer\n",
        "\n",
        "# TODO: Initialize the classifier\n",
        "clf = RandomForestClassifier(random_state = 0)\n",
        "\n",
        "# TODO: Create the parameters list you wish to tune, using a dictionary if needed.\n",
        "# HINT: parameters = {'parameter_1': [value1, value2], 'parameter_2': [value1, value2]}\n",
        "parameters = {'n_estimators': [5, 10, 20, 40, 80, 200],  'criterion': ['entropy', 'gini'], 'max_depth': [None, 10, 20, 30]}\n",
        "\n",
        "# TODO: Make an fbeta_score scoring object using make_scorer()\n",
        "scorer = make_scorer(fbeta_score, beta = 0.5)\n",
        "\n",
        "# TODO: Perform grid search on the classifier using 'scorer' as the scoring method using GridSearchCV()\n",
        "grid_obj = GridSearchCV(clf, param_grid = parameters, scoring = scorer)\n",
        "\n",
        "# TODO: Fit the grid search object to the training data and find the optimal parameters using fit()\n",
        "grid_fit = grid_obj.fit(X_train, y_train)\n",
        "\n",
        "# Get the estimator\n",
        "best_clf = grid_fit.best_estimator_\n",
        "\n",
        "# Make predictions using the unoptimized and model\n",
        "predictions = (clf.fit(X_train, y_train)).predict(X_test)\n",
        "best_predictions = best_clf.predict(X_test)\n",
        "\n",
        "# Report the before-and-afterscores\n",
        "print(\"Unoptimized model\\n------\")\n",
        "print(\"Accuracy score on testing data: {:.4f}\".format(accuracy_score(y_test, predictions)))\n",
        "print(\"F-score on testing data: {:.4f}\".format(fbeta_score(y_test, predictions, beta = 0.5)))\n",
        "print(\"\\nOptimized Model\\n------\")\n",
        "print(\"Final accuracy score on the testing data: {:.4f}\".format(accuracy_score(y_test, best_predictions)))\n",
        "print(\"Final F-score on the testing data: {:.4f}\".format(fbeta_score(y_test, best_predictions, beta = 0.5)))"
      ],
      "execution_count": null,
      "outputs": []
    },
    {
      "cell_type": "markdown",
      "metadata": {
        "id": "rt6Plapv9xe8"
      },
      "source": [
        "### Question 5 - Final Model Evaluation\n",
        "\n",
        "* What is your optimized model's accuracy and F-score on the testing data? \n",
        "* Are these scores better or worse than the unoptimized model? \n",
        "* How do the results from your optimized model compare to the naive predictor benchmarks you found earlier in **Question 1**?_  \n",
        "\n",
        "**Note:** Fill in the table below with your results, and then provide discussion in the **Answer** box."
      ]
    },
    {
      "cell_type": "markdown",
      "metadata": {
        "id": "w_gP78lX9xe8"
      },
      "source": [
        "#### Results:\n",
        "\n",
        "|     Metric     | Unoptimized Model | Optimized Model |\n",
        "| :------------: | :---------------: | :-------------: | \n",
        "| Accuracy Score |      83.77        |     86.03       |\n",
        "| F-score        |      67.16        |     73.37       |\n"
      ]
    },
    {
      "cell_type": "markdown",
      "metadata": {
        "id": "A-ZpwqwP9xe8"
      },
      "source": [
        "**Answer: **"
      ]
    },
    {
      "cell_type": "markdown",
      "metadata": {
        "id": "xwTd1eMW9xe9"
      },
      "source": [
        "----\n",
        "## Feature Importance\n",
        "\n",
        "An important task when performing supervised learning on a dataset like the census data we study here is determining which features provide the most predictive power. By focusing on the relationship between only a few crucial features and the target label we simplify our understanding of the phenomenon, which is most always a useful thing to do. In the case of this project, that means we wish to identify a small number of features that most strongly predict whether an individual makes at most or more than \\$50,000.\n",
        "\n",
        "Choose a scikit-learn classifier (e.g., adaboost, random forests) that has a `feature_importance_` attribute, which is a function that ranks the importance of features according to the chosen classifier.  In the next python cell fit this classifier to training set and use this attribute to determine the top 5 most important features for the census dataset."
      ]
    },
    {
      "cell_type": "markdown",
      "metadata": {
        "id": "uOC4nThS9xe9"
      },
      "source": [
        "### Question 6 - Feature Relevance Observation\n",
        "When **Exploring the Data**, it was shown there are thirteen available features for each individual on record in the census data. Of these thirteen records, which five features do you believe to be most important for prediction, and in what order would you rank them and why?"
      ]
    },
    {
      "cell_type": "markdown",
      "metadata": {
        "id": "HAhIRFmY9xe9"
      },
      "source": [
        "**Answer:**\n",
        "- working class\n",
        "- occupation\n",
        "- age\n",
        "- education\n",
        "- relationship"
      ]
    },
    {
      "cell_type": "markdown",
      "metadata": {
        "id": "1VC64cew9xe9"
      },
      "source": [
        "### Implementation - Extracting Feature Importance\n",
        "Choose a `scikit-learn` supervised learning algorithm that has a `feature_importance_` attribute availble for it. This attribute is a function that ranks the importance of each feature when making predictions based on the chosen algorithm.\n",
        "\n",
        "In the code cell below, you will need to implement the following:\n",
        " - Import a supervised learning model from sklearn if it is different from the three used earlier.\n",
        " - Train the supervised model on the entire training set.\n",
        " - Extract the feature importances using `'.feature_importances_'`."
      ]
    },
    {
      "cell_type": "code",
      "metadata": {
        "id": "t5YK1B3x9xe9"
      },
      "source": [
        "# TODO: Import a supervised learning model that has 'feature_importances_'\n",
        "\n",
        "\n",
        "# TODO: Train the supervised model on the training set using .fit(X_train, y_train)\n",
        "model = clf.fit(X_train, y_train)\n",
        "\n",
        "# TODO: Extract the feature importances using .feature_importances_ \n",
        "importances = model.feature_importances_\n",
        "\n",
        "# Plot\n",
        "#vs.feature_plot(importances, X_train, y_train)"
      ],
      "execution_count": null,
      "outputs": []
    },
    {
      "cell_type": "markdown",
      "metadata": {
        "id": "PZzZNtip9xe-"
      },
      "source": [
        "### Question 7 - Extracting Feature Importance\n",
        "\n",
        "Observe the visualization created above which displays the five most relevant features for predicting if an individual makes at most or above \\$50,000.  \n",
        "* How do these five features compare to the five features you discussed in **Question 6**?\n",
        "* If you were close to the same answer, how does this visualization confirm your thoughts? \n",
        "* If you were not close, why do you think these features are more relevant?"
      ]
    },
    {
      "cell_type": "markdown",
      "metadata": {
        "id": "Xyh9OZY09xe-"
      },
      "source": [
        "**Answer:**\n",
        "I am surprised working class wasn't top 5 featured importance. Age, hours per week should have been in my initial assumptions. I did get a few of them correct, such as relationship and age. Martial status was suprising although it makes sense from an income perspective. I would be interested to see the household income based on native-country and see the average income when married. "
      ]
    },
    {
      "cell_type": "markdown",
      "metadata": {
        "id": "PBnIuT6P9xe_"
      },
      "source": [
        "### Feature Selection\n",
        "How does a model perform if we only use a subset of all the available features in the data? With less features required to train, the expectation is that training and prediction time is much lower — at the cost of performance metrics. From the visualization above, we see that the top five most important features contribute more than half of the importance of **all** features present in the data. This hints that we can attempt to *reduce the feature space* and simplify the information required for the model to learn. The code cell below will use the same optimized model you found earlier, and train it on the same training set *with only the top five important features*. "
      ]
    },
    {
      "cell_type": "code",
      "metadata": {
        "id": "Trt-T_0n9xe_"
      },
      "source": [
        "# Import functionality for cloning a model\n",
        "from sklearn.base import clone\n",
        "\n",
        "# Reduce the feature space\n",
        "X_train_reduced = X_train[X_train.columns.values[(np.argsort(importances)[::-1])[:5]]]\n",
        "X_test_reduced = X_test[X_test.columns.values[(np.argsort(importances)[::-1])[:5]]]\n",
        "\n",
        "# Train on the \"best\" model found from grid search earlier\n",
        "clf = (clone(best_clf)).fit(X_train_reduced, y_train)\n",
        "\n",
        "# Make new predictions\n",
        "reduced_predictions = clf.predict(X_test_reduced)\n",
        "\n",
        "# Report scores from the final model using both versions of data\n",
        "print(\"Final Model trained on full data\\n------\")\n",
        "print(\"Accuracy on testing data: {:.4f}\".format(accuracy_score(y_test, best_predictions)))\n",
        "print(\"F-score on testing data: {:.4f}\".format(fbeta_score(y_test, best_predictions, beta = 0.5)))\n",
        "print(\"\\nFinal Model trained on reduced data\\n------\")\n",
        "print(\"Accuracy on testing data: {:.4f}\".format(accuracy_score(y_test, reduced_predictions)))\n",
        "print(\"F-score on testing data: {:.4f}\".format(fbeta_score(y_test, reduced_predictions, beta = 0.5)))"
      ],
      "execution_count": null,
      "outputs": []
    },
    {
      "cell_type": "markdown",
      "metadata": {
        "id": "7qD2V9HA9xe_"
      },
      "source": [
        "### Question 8 - Effects of Feature Selection\n",
        "\n",
        "* How does the final model's F-score and accuracy score on the reduced data using only five features compare to those same scores when all features are used?\n",
        "* If training time was a factor, would you consider using the reduced data as your training set?"
      ]
    },
    {
      "cell_type": "markdown",
      "metadata": {
        "id": "O9TTLlSS9xe_"
      },
      "source": [
        "**Answer:**\n",
        "The model accuracy and F-score was reduced, which was expected when using less features. However the model still performs rather well. I would be curious if the regression model would perform better given less features considering the weakness of that particular model. Another factor is time to train, I would infer that the time to train the models would reduce significantly if only using the 5 features. This would be major factor for the Random Forest Classifier since it's weakess area was time to train.   "
      ]
    },
    {
      "cell_type": "markdown",
      "metadata": {
        "id": "IUsQ6ll69xe_"
      },
      "source": [
        "> **Note**: Once you have completed all of the code implementations and successfully answered each question above, you may finalize your work by exporting the iPython Notebook as an HTML document. You can do this by using the menu above and navigating to  \n",
        "**File -> Download as -> HTML (.html)**. Include the finished document along with this notebook as your submission."
      ]
    }
  ]
}